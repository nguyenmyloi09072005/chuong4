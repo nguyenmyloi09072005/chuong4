{
 "cells": [
  {
   "cell_type": "code",
   "execution_count": null,
   "metadata": {},
   "outputs": [
    {
     "name": "stdout",
     "output_type": "stream",
     "text": [
      "0     g\n",
      "1     h\n",
      "2     f\n",
      "3     g\n",
      "4     g\n",
      "5     f\n",
      "6     b\n",
      "7     b\n",
      "8     c\n",
      "9     c\n",
      "10    b\n",
      "11    c\n",
      "12    d\n",
      "13    h\n",
      "14    d\n",
      "15    f\n",
      "16    b\n",
      "17    f\n",
      "18    e\n",
      "19    f\n",
      "20    d\n",
      "21    g\n",
      "22    e\n",
      "23    f\n",
      "24    h\n",
      "25    f\n",
      "26    b\n",
      "27    e\n",
      "28    a\n",
      "29    g\n",
      "dtype: object\n"
     ]
    }
   ],
   "source": [
    "import pandas as pd\n",
    "import numpy as np\n",
    "ser = pd.Series(np.take(list('abcdefgh'),np.random.randint(8,size=30)))"
   ]
  },
  {
   "cell_type": "markdown",
   "metadata": {},
   "source": [
    "### Ý 1"
   ]
  },
  {
   "cell_type": "code",
   "execution_count": null,
   "metadata": {},
   "outputs": [],
   "source": [
    "'''Ý nghĩa đoạn code là:\n",
    "np.take trả các phần tử từ mảng theo trục dọc và chỉ mục mình đề ra\n",
    "np.random.randint trả về 1 mảng có kích cỡ quy định và lấp đầy mảng bằng các số nguyên ngẫu nhiên \n",
    "\n",
    "--> Vậy đoạn code trên có ý nghĩa là chúng ta lấy 1 danh sách gồm các kí tự thuộc kiểu dữ liệu chuỗi \n",
    "và tạo ngẫu nhiên số nguyên tương ứng với 8 kí tự kiểu chuỗi với độ dài 30 \n",
    "sau đó ta kết nối danh sách kí tự và các số ngẫu nhiên kia vào chung 1 pandas series \n",
    "'''"
   ]
  },
  {
   "cell_type": "markdown",
   "metadata": {},
   "source": [
    "### ý 2"
   ]
  },
  {
   "cell_type": "code",
   "execution_count": 9,
   "metadata": {},
   "outputs": [
    {
     "name": "stdout",
     "output_type": "stream",
     "text": [
      "1 là số lần xuất hiện của kí tự a trong ser\n",
      "5 là số lần xuất hiện của kí tự b trong ser\n",
      "3 là số lần xuất hiện của kí tự c trong ser\n",
      "3 là số lần xuất hiện của kí tự d trong ser\n",
      "3 là số lần xuất hiện của kí tự e trong ser\n",
      "7 là số lần xuất hiện của kí tự f trong ser\n",
      "5 là số lần xuất hiện của kí tự g trong ser\n",
      "3 là số lần xuất hiện của kí tự h trong ser\n"
     ]
    }
   ],
   "source": [
    "ser = list(ser)\n",
    "print(ser.count('a'), \"là số lần xuất hiện của kí tự a trong ser\")\n",
    "print(ser.count('b'), \"là số lần xuất hiện của kí tự b trong ser\")\n",
    "print(ser.count('c'), \"là số lần xuất hiện của kí tự c trong ser\")\n",
    "print(ser.count('d'), \"là số lần xuất hiện của kí tự d trong ser\")\n",
    "print(ser.count('e'), \"là số lần xuất hiện của kí tự e trong ser\")\n",
    "print(ser.count('f'), \"là số lần xuất hiện của kí tự f trong ser\")\n",
    "print(ser.count('g'), \"là số lần xuất hiện của kí tự g trong ser\")\n",
    "print(ser.count('h'), \"là số lần xuất hiện của kí tự h trong ser\")\n"
   ]
  }
 ],
 "metadata": {
  "kernelspec": {
   "display_name": "Python 3",
   "language": "python",
   "name": "python3"
  },
  "language_info": {
   "codemirror_mode": {
    "name": "ipython",
    "version": 3
   },
   "file_extension": ".py",
   "mimetype": "text/x-python",
   "name": "python",
   "nbconvert_exporter": "python",
   "pygments_lexer": "ipython3",
   "version": "3.13.0"
  }
 },
 "nbformat": 4,
 "nbformat_minor": 2
}
