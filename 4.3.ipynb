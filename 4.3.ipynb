{
 "cells": [
  {
   "cell_type": "code",
   "execution_count": 2,
   "metadata": {},
   "outputs": [
    {
     "name": "stdout",
     "output_type": "stream",
     "text": [
      "    0\n",
      "0   a\n",
      "1   b\n",
      "2   c\n",
      "3   e\n",
      "4   d\n",
      "5   f\n",
      "6   g\n",
      "7   h\n",
      "8   i\n",
      "9   j\n",
      "10  k\n",
      "11  l\n",
      "12  m\n",
      "13  n\n",
      "14  o\n",
      "15  p\n",
      "16  q\n",
      "17  r\n",
      "18  s\n",
      "19  t\n",
      "20  u\n",
      "21  v\n",
      "22  w\n",
      "23  x\n",
      "24  y\n",
      "25  z\n"
     ]
    }
   ],
   "source": [
    "import pandas as pd \n",
    "import numpy as np\n",
    "ser1 = pd.Series(list('abcedfghijklmnopqrstuvwxyz'))\n",
    "ser2 = pd.Series(np.arange(26))\n",
    "ser = pd.DataFrame(ser1, ser2)\n",
    "print(ser)"
   ]
  }
 ],
 "metadata": {
  "kernelspec": {
   "display_name": "Python 3",
   "language": "python",
   "name": "python3"
  },
  "language_info": {
   "codemirror_mode": {
    "name": "ipython",
    "version": 3
   },
   "file_extension": ".py",
   "mimetype": "text/x-python",
   "name": "python",
   "nbconvert_exporter": "python",
   "pygments_lexer": "ipython3",
   "version": "3.13.0"
  }
 },
 "nbformat": 4,
 "nbformat_minor": 2
}
