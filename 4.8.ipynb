{
 "cells": [
  {
   "cell_type": "code",
   "execution_count": 2,
   "metadata": {},
   "outputs": [
    {
     "name": "stdout",
     "output_type": "stream",
     "text": [
      "0     0.776890\n",
      "1     0.198109\n",
      "2     0.564471\n",
      "3     0.057566\n",
      "4     0.842721\n",
      "5     0.073993\n",
      "6     0.245747\n",
      "7     0.127190\n",
      "8     0.097693\n",
      "9     0.026820\n",
      "10    0.979469\n",
      "11    0.809794\n",
      "12    0.497827\n",
      "13    0.139795\n",
      "14    0.678589\n",
      "15    0.574929\n",
      "16    0.043884\n",
      "17    0.823304\n",
      "18    0.575355\n",
      "19    0.923425\n",
      "dtype: float64\n"
     ]
    }
   ],
   "source": [
    "import pandas as pd\n",
    "import numpy as np\n",
    "ser = pd.Series(np.random.random(20))\n",
    "print(ser)"
   ]
  },
  {
   "cell_type": "code",
   "execution_count": 7,
   "metadata": {},
   "outputs": [
    {
     "name": "stdout",
     "output_type": "stream",
     "text": [
      "     Giá trị  Phân vị\n",
      "0   0.776890        7\n",
      "1   0.198109        3\n",
      "2   0.564471        5\n",
      "3   0.057566        1\n",
      "4   0.842721        8\n",
      "5   0.073993        1\n",
      "6   0.245747        4\n",
      "7   0.127190        2\n",
      "8   0.097693        2\n",
      "9   0.026820        0\n",
      "10  0.979469        9\n",
      "11  0.809794        7\n",
      "12  0.497827        4\n",
      "13  0.139795        3\n",
      "14  0.678589        6\n",
      "15  0.574929        5\n",
      "16  0.043884        0\n",
      "17  0.823304        8\n",
      "18  0.575355        6\n",
      "19  0.923425        9 \n",
      "đã chia chuỗi thành 10 phân vị = nhau\n"
     ]
    }
   ],
   "source": [
    "df = pd.DataFrame(ser,columns=['Giá trị'])\n",
    "df['Phân vị'] = pd.qcut(df['Giá trị'],q=10,labels=False)\n",
    "print(df, \"\\nđã chia chuỗi thành 10 phân vị = nhau\")"
   ]
  }
 ],
 "metadata": {
  "kernelspec": {
   "display_name": "Python 3",
   "language": "python",
   "name": "python3"
  },
  "language_info": {
   "codemirror_mode": {
    "name": "ipython",
    "version": 3
   },
   "file_extension": ".py",
   "mimetype": "text/x-python",
   "name": "python",
   "nbconvert_exporter": "python",
   "pygments_lexer": "ipython3",
   "version": "3.13.0"
  }
 },
 "nbformat": 4,
 "nbformat_minor": 2
}
