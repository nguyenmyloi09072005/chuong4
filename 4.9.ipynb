{
 "cells": [
  {
   "cell_type": "code",
   "execution_count": 5,
   "metadata": {},
   "outputs": [],
   "source": [
    "import pandas as pd\n",
    "import numpy as np\n",
    "ser = pd.Series(np.random.randint(1,10,35))"
   ]
  },
  {
   "cell_type": "markdown",
   "metadata": {},
   "source": [
    "### ý 1"
   ]
  },
  {
   "cell_type": "code",
   "execution_count": null,
   "metadata": {},
   "outputs": [],
   "source": [
    "'''Ý nghĩa mã lệnh trên:\n",
    "np.random.randint(1,10,35) trả về 1 mảng số nguyên ngẫu nhiên có giá trị min là 1, giá trị max là 10 với kích cỡ 35 phần tử\n",
    "sau đó ta dùng pd.Series để tạo 1 chuỗi pandas từ mảng số ngẫu nhiên ở trên\n",
    "'''"
   ]
  },
  {
   "cell_type": "markdown",
   "metadata": {},
   "source": [
    "### ý 2"
   ]
  },
  {
   "cell_type": "code",
   "execution_count": null,
   "metadata": {},
   "outputs": [
    {
     "name": "stdout",
     "output_type": "stream",
     "text": [
      "[[3 8 4 3 8]\n",
      " [5 3 4 9 2]\n",
      " [3 3 8 3 4]\n",
      " [8 9 9 1 8]\n",
      " [7 4 1 3 4]\n",
      " [8 2 7 7 8]\n",
      " [9 3 5 1 1]] \n",
      "đã định hình có 7 hàng 5 cột\n"
     ]
    }
   ],
   "source": [
    "arr = ser.values  # chuyển đối tượng series thành array\n",
    "new_ser = arr.reshape((7,5))\n",
    "print(new_ser, \"\\nđã định hình có 7 hàng 5 cột\")"
   ]
  }
 ],
 "metadata": {
  "kernelspec": {
   "display_name": "Python 3",
   "language": "python",
   "name": "python3"
  },
  "language_info": {
   "codemirror_mode": {
    "name": "ipython",
    "version": 3
   },
   "file_extension": ".py",
   "mimetype": "text/x-python",
   "name": "python",
   "nbconvert_exporter": "python",
   "pygments_lexer": "ipython3",
   "version": "3.13.0"
  }
 },
 "nbformat": 4,
 "nbformat_minor": 2
}
