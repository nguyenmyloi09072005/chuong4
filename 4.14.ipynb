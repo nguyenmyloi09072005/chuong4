{
 "cells": [
  {
   "cell_type": "code",
   "execution_count": 1,
   "metadata": {},
   "outputs": [],
   "source": [
    "import pandas as pd\n",
    "import numpy as np\n",
    "truth = pd.Series(range(10))\n",
    "pred = pd.Series(range(10) + np.random.random(10))"
   ]
  },
  {
   "cell_type": "code",
   "execution_count": 2,
   "metadata": {},
   "outputs": [
    {
     "name": "stdout",
     "output_type": "stream",
     "text": [
      "0.2940496269790228 là sai số bình phương trung bình của chuỗi truth và pred\n"
     ]
    }
   ],
   "source": [
    "sai_so_binh_phuong_tb = np.square(np.subtract(truth,pred)).mean()\n",
    "print(sai_so_binh_phuong_tb, \"là sai số bình phương trung bình của chuỗi truth và pred\")"
   ]
  }
 ],
 "metadata": {
  "kernelspec": {
   "display_name": "Python 3",
   "language": "python",
   "name": "python3"
  },
  "language_info": {
   "codemirror_mode": {
    "name": "ipython",
    "version": 3
   },
   "file_extension": ".py",
   "mimetype": "text/x-python",
   "name": "python",
   "nbconvert_exporter": "python",
   "pygments_lexer": "ipython3",
   "version": "3.13.0"
  }
 },
 "nbformat": 4,
 "nbformat_minor": 2
}
