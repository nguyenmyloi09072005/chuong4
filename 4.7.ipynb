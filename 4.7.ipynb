{
 "cells": [
  {
   "cell_type": "code",
   "execution_count": 1,
   "metadata": {},
   "outputs": [
    {
     "name": "stdout",
     "output_type": "stream",
     "text": [
      "0     2\n",
      "1     1\n",
      "2     1\n",
      "3     1\n",
      "4     2\n",
      "5     3\n",
      "6     2\n",
      "7     1\n",
      "8     2\n",
      "9     3\n",
      "10    4\n",
      "11    4\n",
      "dtype: int32\n"
     ]
    }
   ],
   "source": [
    "import numpy as np\n",
    "import pandas as pd\n",
    "np.random.RandomState(100)\n",
    "ser = pd.Series(np.random.randint(1,5,[12]))\n",
    "print(ser)"
   ]
  },
  {
   "cell_type": "code",
   "execution_count": 5,
   "metadata": {},
   "outputs": [
    {
     "name": "stdout",
     "output_type": "stream",
     "text": [
      "0         2\n",
      "1         1\n",
      "2         1\n",
      "3         1\n",
      "4         2\n",
      "5     Other\n",
      "6         2\n",
      "7         1\n",
      "8         2\n",
      "9     Other\n",
      "10    Other\n",
      "11    Other\n",
      "dtype: object là series giữ nguyên 2 phần tử tần suất max và thay đổi giá trị các phần tử còn lại\n"
     ]
    }
   ],
   "source": [
    "new_ser = ser.replace(to_replace=[3,4],value='Other')\n",
    "print(new_ser, \"là series giữ nguyên 2 phần tử tần suất max và thay đổi giá trị các phần tử còn lại\")"
   ]
  }
 ],
 "metadata": {
  "kernelspec": {
   "display_name": "Python 3",
   "language": "python",
   "name": "python3"
  },
  "language_info": {
   "codemirror_mode": {
    "name": "ipython",
    "version": 3
   },
   "file_extension": ".py",
   "mimetype": "text/x-python",
   "name": "python",
   "nbconvert_exporter": "python",
   "pygments_lexer": "ipython3",
   "version": "3.13.0"
  }
 },
 "nbformat": 4,
 "nbformat_minor": 2
}
