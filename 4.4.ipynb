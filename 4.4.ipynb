{
 "cells": [
  {
   "cell_type": "code",
   "execution_count": 1,
   "metadata": {},
   "outputs": [],
   "source": [
    "import pandas as pd \n",
    "ser1 = pd.Series([1,2,3,4,5])\n",
    "ser2 = pd.Series([4,5,6,7,8])"
   ]
  },
  {
   "cell_type": "markdown",
   "metadata": {},
   "source": [
    "### ý 1"
   ]
  },
  {
   "cell_type": "code",
   "execution_count": 2,
   "metadata": {},
   "outputs": [
    {
     "name": "stdout",
     "output_type": "stream",
     "text": [
      "0    1\n",
      "1    2\n",
      "2    3\n",
      "dtype: int64 là ser1 đã xóa các mục có mặt trong ser2\n"
     ]
    }
   ],
   "source": [
    "print(ser1[~ser1.isin(ser2)], \"là ser1 đã xóa các mục có mặt trong ser2\")"
   ]
  },
  {
   "cell_type": "markdown",
   "metadata": {},
   "source": [
    "### ý 2\n"
   ]
  },
  {
   "cell_type": "code",
   "execution_count": 4,
   "metadata": {},
   "outputs": [
    {
     "name": "stdout",
     "output_type": "stream",
     "text": [
      "0    1\n",
      "1    2\n",
      "2    3\n",
      "5    6\n",
      "6    7\n",
      "7    8\n",
      "dtype: int64 là series lấy tất cả mục của ser1, ser2 nhưng không nằm chung trong cả 2\n"
     ]
    }
   ],
   "source": [
    "import numpy as np\n",
    "hop_nhau = pd.Series(np.union1d(ser1,ser2))\n",
    "giao_nhau = pd.Series(np.intersect1d(ser1,ser2))\n",
    "ser = hop_nhau[~hop_nhau.isin(giao_nhau)]\n",
    "print(ser, \"là series lấy tất cả mục của ser1, ser2 nhưng không nằm chung trong cả 2\")"
   ]
  }
 ],
 "metadata": {
  "kernelspec": {
   "display_name": "Python 3",
   "language": "python",
   "name": "python3"
  },
  "language_info": {
   "codemirror_mode": {
    "name": "ipython",
    "version": 3
   },
   "file_extension": ".py",
   "mimetype": "text/x-python",
   "name": "python",
   "nbconvert_exporter": "python",
   "pygments_lexer": "ipython3",
   "version": "3.13.0"
  }
 },
 "nbformat": 4,
 "nbformat_minor": 2
}
